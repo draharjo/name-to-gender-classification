{
 "cells": [
  {
   "cell_type": "code",
   "execution_count": 1,
   "metadata": {},
   "outputs": [],
   "source": [
    "import pandas as pd"
   ]
  },
  {
   "cell_type": "markdown",
   "metadata": {},
   "source": [
    "# Load data"
   ]
  },
  {
   "cell_type": "code",
   "execution_count": 2,
   "metadata": {},
   "outputs": [],
   "source": [
    "df = pd.read_csv('data/name_gender.csv')"
   ]
  },
  {
   "cell_type": "code",
   "execution_count": 29,
   "metadata": {},
   "outputs": [
    {
     "data": {
      "text/html": [
       "<div>\n",
       "<style scoped>\n",
       "    .dataframe tbody tr th:only-of-type {\n",
       "        vertical-align: middle;\n",
       "    }\n",
       "\n",
       "    .dataframe tbody tr th {\n",
       "        vertical-align: top;\n",
       "    }\n",
       "\n",
       "    .dataframe thead th {\n",
       "        text-align: right;\n",
       "    }\n",
       "</style>\n",
       "<table border=\"1\" class=\"dataframe\">\n",
       "  <thead>\n",
       "    <tr style=\"text-align: right;\">\n",
       "      <th></th>\n",
       "      <th>NAMA</th>\n",
       "      <th>GENDER</th>\n",
       "    </tr>\n",
       "  </thead>\n",
       "  <tbody>\n",
       "    <tr>\n",
       "      <th>0</th>\n",
       "      <td>ORIZA ZEA SABRINA</td>\n",
       "      <td>P</td>\n",
       "    </tr>\n",
       "    <tr>\n",
       "      <th>1</th>\n",
       "      <td>AYU AGA PUTRI</td>\n",
       "      <td>P</td>\n",
       "    </tr>\n",
       "    <tr>\n",
       "      <th>2</th>\n",
       "      <td>SUSYANTO</td>\n",
       "      <td>L</td>\n",
       "    </tr>\n",
       "    <tr>\n",
       "      <th>3</th>\n",
       "      <td>YAHUDIN</td>\n",
       "      <td>L</td>\n",
       "    </tr>\n",
       "    <tr>\n",
       "      <th>4</th>\n",
       "      <td>WAGIMAN</td>\n",
       "      <td>L</td>\n",
       "    </tr>\n",
       "  </tbody>\n",
       "</table>\n",
       "</div>"
      ],
      "text/plain": [
       "                NAMA GENDER\n",
       "0  ORIZA ZEA SABRINA      P\n",
       "1      AYU AGA PUTRI      P\n",
       "2           SUSYANTO      L\n",
       "3            YAHUDIN      L\n",
       "4            WAGIMAN      L"
      ]
     },
     "execution_count": 29,
     "metadata": {},
     "output_type": "execute_result"
    }
   ],
   "source": [
    "df.head()"
   ]
  },
  {
   "cell_type": "markdown",
   "metadata": {},
   "source": [
    "# Encoding dengan menggunakan fast text"
   ]
  },
  {
   "cell_type": "code",
   "execution_count": 4,
   "metadata": {},
   "outputs": [],
   "source": [
    "import os\n",
    "from tqdm.auto import tqdm\n",
    "\n",
    "from nltk.tokenize import word_tokenize\n",
    "from gensim.models import FastText"
   ]
  },
  {
   "cell_type": "code",
   "execution_count": 5,
   "metadata": {},
   "outputs": [
    {
     "data": {
      "application/vnd.jupyter.widget-view+json": {
       "model_id": "5a64043bb288451db896e40f0cc0b920",
       "version_major": 2,
       "version_minor": 0
      },
      "text/plain": [
       "HBox(children=(HTML(value=''), FloatProgress(value=0.0, max=3139.0), HTML(value='')))"
      ]
     },
     "metadata": {},
     "output_type": "display_data"
    },
    {
     "name": "stdout",
     "output_type": "stream",
     "text": [
      "\n"
     ]
    },
    {
     "data": {
      "text/plain": [
       "[['oriza', 'zea', 'sabrina'],\n",
       " ['ayu', 'aga', 'putri'],\n",
       " ['susyanto'],\n",
       " ['yahudin'],\n",
       " ['wagiman']]"
      ]
     },
     "execution_count": 5,
     "metadata": {},
     "output_type": "execute_result"
    }
   ],
   "source": [
    "# tokenisasi nama\n",
    "sentences = [word_tokenize(text.lower()) for text in tqdm (df.NAMA)]\n",
    "sentences[:5]"
   ]
  },
  {
   "cell_type": "markdown",
   "metadata": {},
   "source": [
    "# Train2Vec"
   ]
  },
  {
   "cell_type": "code",
   "execution_count": 6,
   "metadata": {},
   "outputs": [],
   "source": [
    "# ukuran size = latent space = 16, 32, dll . Di industry size 100, sedang = 200, wikipedia =300\n",
    "# window lihat ke kiri atau kekanan seberapa banyak\n",
    "# min_count = berapa banyak kata yang muncul agar dijadikan word yang ditraining\n",
    "#sg = skip gram , by default dia false\n",
    "model = FastText(sentences, size = 128, window = 5, min_count =3 , workers = 4, iter = 1000, sg=0, hs = 0)"
   ]
  },
  {
   "cell_type": "code",
   "execution_count": 7,
   "metadata": {},
   "outputs": [],
   "source": [
    "os.makedirs(\"model/fasttext/\", exist_ok= True)\n",
    "model.save(\"model/fasttext/name_gender.fasttext\")"
   ]
  },
  {
   "cell_type": "markdown",
   "metadata": {},
   "source": [
    "# Model information"
   ]
  },
  {
   "cell_type": "code",
   "execution_count": 8,
   "metadata": {},
   "outputs": [],
   "source": [
    "w2v = model.wv"
   ]
  },
  {
   "cell_type": "code",
   "execution_count": 9,
   "metadata": {},
   "outputs": [
    {
     "data": {
      "text/plain": [
       "['sri',\n",
       " '.',\n",
       " 'sari',\n",
       " 'siti',\n",
       " 'dwi',\n",
       " 'tri',\n",
       " 'saputra',\n",
       " 'putra',\n",
       " 'dewi',\n",
       " 'm.',\n",
       " 'putri',\n",
       " 'agus',\n",
       " 'muhammad',\n",
       " 'eka',\n",
       " 'hidayat',\n",
       " 'nur',\n",
       " 'lestari',\n",
       " 'rahayu',\n",
       " 'wati',\n",
       " 'susanto',\n",
       " 'suryani',\n",
       " 'fitri',\n",
       " 'ningsih',\n",
       " 'ahmad',\n",
       " 'pratama',\n",
       " 'kurniawan',\n",
       " 'indah',\n",
       " 'eko',\n",
       " 'ayu',\n",
       " 'astuti',\n",
       " 'puspita',\n",
       " 'indra',\n",
       " 'ratna',\n",
       " 'supardi',\n",
       " 'wulandari',\n",
       " 'anggraini',\n",
       " 'sulastri',\n",
       " 's',\n",
       " 'gunawan',\n",
       " 'abdul',\n",
       " 'rini',\n",
       " 'maria',\n",
       " 'muhamad',\n",
       " 'irawan',\n",
       " 'ari',\n",
       " 'dian',\n",
       " 'endang',\n",
       " 'adi',\n",
       " 'susanti',\n",
       " 'dedi',\n",
       " 'joko',\n",
       " 'widodo',\n",
       " 'wahyu',\n",
       " 'puji',\n",
       " 'santoso',\n",
       " 'pratiwi',\n",
       " 'rahmat',\n",
       " 'rahmad',\n",
       " 'budi',\n",
       " 'hartati',\n",
       " 'sumarni',\n",
       " 'teguh',\n",
       " 'yanto',\n",
       " 'ria',\n",
       " 'utami',\n",
       " 'simanjuntak',\n",
       " 'suparno',\n",
       " 'rizki',\n",
       " 'agung',\n",
       " 'heri',\n",
       " 'slamet',\n",
       " 'm',\n",
       " 'riki',\n",
       " 'a.',\n",
       " 'abdullah',\n",
       " 'setiawan',\n",
       " 'arif',\n",
       " 'purwanti',\n",
       " 'ali',\n",
       " 'sugiarti',\n",
       " 'gusti',\n",
       " 'wijaya',\n",
       " 'aini',\n",
       " 'kurnia',\n",
       " 'ramadhan',\n",
       " 'susi',\n",
       " 'susilawati',\n",
       " 'juni',\n",
       " 'candra',\n",
       " 'tampubolon',\n",
       " 's.',\n",
       " 'ade',\n",
       " 'yuni',\n",
       " 'retno',\n",
       " 'jumadi',\n",
       " 'sanjaya',\n",
       " 'suparman',\n",
       " 'bambang',\n",
       " 'yuli',\n",
       " 'yanti',\n",
       " 'wahyuni',\n",
       " 'titi',\n",
       " 'desi',\n",
       " 'hadi',\n",
       " 'purnomo',\n",
       " 'herlina',\n",
       " 'safitri',\n",
       " 'novi',\n",
       " 'saleh',\n",
       " 'novita',\n",
       " 'kusuma',\n",
       " 'rita',\n",
       " 'wagiyem',\n",
       " 'sutrisno',\n",
       " 'panjaitan',\n",
       " 'fauzi',\n",
       " 'taufik',\n",
       " 'suyanto',\n",
       " 'arum',\n",
       " 'purnama',\n",
       " 'febriani',\n",
       " 'herawati',\n",
       " 'andi',\n",
       " 'ani',\n",
       " 'hendri',\n",
       " 'utama',\n",
       " 'jaya',\n",
       " 'efendi',\n",
       " 'apriani',\n",
       " 'h.',\n",
       " 'warsito',\n",
       " 'dimas',\n",
       " 'riski',\n",
       " 'maryati',\n",
       " 'winda',\n",
       " 'toni',\n",
       " 'prayetno',\n",
       " 'atika',\n",
       " 'nurhayati',\n",
       " 'rika',\n",
       " 'ardi',\n",
       " 'sugeng',\n",
       " 'suharti',\n",
       " 'anggun',\n",
       " 'kartini',\n",
       " 'suwarni',\n",
       " 'sidik',\n",
       " 'mulya',\n",
       " 'yunita',\n",
       " 'suprihatin',\n",
       " 'wahyudi',\n",
       " 'santika',\n",
       " 'wibowo',\n",
       " 'nurhasanah',\n",
       " 'tukiran',\n",
       " 'samsul',\n",
       " 'aprilia',\n",
       " 'nanang',\n",
       " 'haryanto',\n",
       " 'pertiwi',\n",
       " 'ridho',\n",
       " 'fitria',\n",
       " 'nunung',\n",
       " 'sumarno',\n",
       " 'mulyana',\n",
       " 'bima',\n",
       " 'yulia',\n",
       " 'aminah',\n",
       " 'effendi',\n",
       " 's.pd',\n",
       " 'andri',\n",
       " 'imam',\n",
       " 'anita',\n",
       " 'iwan',\n",
       " 'bayu',\n",
       " 'yulianti',\n",
       " 'pd',\n",
       " 'azizah',\n",
       " 'david',\n",
       " 'darmawan',\n",
       " 'rubiyem',\n",
       " 'junaidi',\n",
       " 'jumiati',\n",
       " 'nainggolan',\n",
       " 'ferry',\n",
       " 'hartini',\n",
       " 'achmad',\n",
       " 'purwanto',\n",
       " 'ibrahim',\n",
       " 'suwito',\n",
       " 'arifin',\n",
       " 'tuminah',\n",
       " 'prayoga',\n",
       " 'sundari',\n",
       " 'angga',\n",
       " 'untung',\n",
       " 'prayitno',\n",
       " 'yeni',\n",
       " 'surati',\n",
       " 'wisnu',\n",
       " 'aisyah',\n",
       " 'andika',\n",
       " 'waginem',\n",
       " 'mulyani',\n",
       " 'semi',\n",
       " 'supriyati',\n",
       " 'saragi',\n",
       " 'sugito',\n",
       " 'sumini',\n",
       " 'sunarti',\n",
       " 'nurul',\n",
       " 'dina',\n",
       " 'sp',\n",
       " 'fitriani',\n",
       " 'suwarti',\n",
       " 'susyanto',\n",
       " 'suardi',\n",
       " 'mutmainah',\n",
       " 'ririn',\n",
       " 'hendra',\n",
       " 'deni',\n",
       " 'radi',\n",
       " 'zulkarnain',\n",
       " 'rusmiati',\n",
       " 'rudi',\n",
       " 'pamungkas',\n",
       " 'simamora',\n",
       " 'suparmi',\n",
       " 'cahaya',\n",
       " 'pramudya',\n",
       " 'akbar',\n",
       " 'rohmad',\n",
       " 'saputri',\n",
       " 'ramadhani',\n",
       " 'elly',\n",
       " 'rohana',\n",
       " 'lilis',\n",
       " 'maimunah',\n",
       " 'ihsan',\n",
       " 'suprapto',\n",
       " 'martina',\n",
       " 'kasmini',\n",
       " 'sumarmi',\n",
       " 'se',\n",
       " 'ahmadi',\n",
       " 'yudha',\n",
       " 'firdaus',\n",
       " 'supriyanti',\n",
       " 'marlinda',\n",
       " 'hari',\n",
       " 'hayati',\n",
       " 'jumiran',\n",
       " 'a',\n",
       " 'sunarto',\n",
       " 'wahid',\n",
       " 'apriyanto',\n",
       " 'r',\n",
       " 'sukarti',\n",
       " 'aulia',\n",
       " 'rian',\n",
       " 'nasution',\n",
       " 'wilis',\n",
       " 'supriyadi',\n",
       " 'susan',\n",
       " 'nani',\n",
       " 'feri',\n",
       " 'yoga',\n",
       " 'raharjo',\n",
       " 'fernando',\n",
       " 'dede',\n",
       " 'sugiarto',\n",
       " 'sihotang',\n",
       " 'monica',\n",
       " 'desy',\n",
       " 'hambali',\n",
       " 'safrizal',\n",
       " 'iman',\n",
       " 'pangestu',\n",
       " 'nia',\n",
       " 'nita',\n",
       " 'febi',\n",
       " 'oktavia',\n",
       " 'chandra',\n",
       " 'elvi',\n",
       " 'andreas',\n",
       " 'erwin',\n",
       " 'marlina',\n",
       " 'septi',\n",
       " 'bagus',\n",
       " 'aji',\n",
       " 'abi',\n",
       " 'suseno',\n",
       " 'rianto',\n",
       " 'al',\n",
       " 'lusiana',\n",
       " 'suryati',\n",
       " 'rangkang',\n",
       " 'erni',\n",
       " 'winarni',\n",
       " 'aziz',\n",
       " 'heni',\n",
       " 'basuki',\n",
       " 'ismail',\n",
       " 'surya',\n",
       " 'rahman',\n",
       " 'deti',\n",
       " 'agustina',\n",
       " 'wahab',\n",
       " 'kristina',\n",
       " 'amir',\n",
       " 'nova',\n",
       " 'nurjanah',\n",
       " 'daryanti',\n",
       " 'majid',\n",
       " 'yusuf',\n",
       " 'satria',\n",
       " 'murni',\n",
       " 'deki',\n",
       " 'sukirman',\n",
       " 'yesi',\n",
       " 'rahma',\n",
       " 'daryono',\n",
       " 'yuliana',\n",
       " 'dadang',\n",
       " 'syahputra',\n",
       " 'riyadi',\n",
       " 'khairul',\n",
       " 'fajri',\n",
       " 'hartono',\n",
       " 'muryati',\n",
       " 'novianti',\n",
       " 'romlah',\n",
       " 'poniyem',\n",
       " 'saniyem',\n",
       " 'suyanti',\n",
       " 'handayani',\n",
       " 'sumiati',\n",
       " 'sumarto',\n",
       " 'theresia',\n",
       " 'santo',\n",
       " 'mulyono',\n",
       " 'ruslan',\n",
       " 'larasati',\n",
       " 'sinta',\n",
       " 'seno',\n",
       " 'suci',\n",
       " 'ngatini',\n",
       " 'sholihin',\n",
       " 'sutarto',\n",
       " 'suyadi',\n",
       " 'suyatmi',\n",
       " 'utomo',\n",
       " 'ahmat',\n",
       " 'sakiyem',\n",
       " 'kurniawati',\n",
       " 'salim',\n",
       " 'auliya',\n",
       " 'hasanah',\n",
       " 'antoro',\n",
       " 'maulana',\n",
       " 'rahmadi',\n",
       " 'sukamto',\n",
       " 'waluyo',\n",
       " 'umi',\n",
       " 'supinah']"
      ]
     },
     "execution_count": 9,
     "metadata": {},
     "output_type": "execute_result"
    }
   ],
   "source": [
    "w2v.index2word"
   ]
  },
  {
   "cell_type": "markdown",
   "metadata": {},
   "source": [
    "# Klasifikasi"
   ]
  },
  {
   "cell_type": "code",
   "execution_count": 30,
   "metadata": {},
   "outputs": [],
   "source": [
    "import numpy as np\n",
    "import pandas as pd\n",
    "\n",
    "from sklearn.model_selection import train_test_split\n",
    "from sklearn.pipeline import Pipeline\n",
    "from sklearn.compose import ColumnTransformer\n",
    "\n",
    "from jcopml.utils import save_model, load_model"
   ]
  },
  {
   "cell_type": "code",
   "execution_count": 31,
   "metadata": {},
   "outputs": [],
   "source": [
    "from nltk.tokenize import word_tokenize\n",
    "from gensim.models import FastText"
   ]
  },
  {
   "cell_type": "code",
   "execution_count": 32,
   "metadata": {},
   "outputs": [],
   "source": [
    "w2v = FastText.load(\"model/fasttext/name_gender.fasttext\").wv"
   ]
  },
  {
   "cell_type": "code",
   "execution_count": 33,
   "metadata": {},
   "outputs": [],
   "source": [
    "def norm_sent_vector(sentence, w2v_model):\n",
    "    vecs = [w2v_model[word.lower()] for word in word_tokenize (sentence)]    \n",
    "    norm_vecs = [vec/ np.linalg.norm(vec) for vec in vecs if np.linalg.norm(vec > 0)]\n",
    "    sent_vec = np.mean (vecs, axis = 0) #dari arah baris\n",
    "    return sent_vec"
   ]
  },
  {
   "cell_type": "markdown",
   "metadata": {},
   "source": [
    "# Dataset splitting"
   ]
  },
  {
   "cell_type": "code",
   "execution_count": 34,
   "metadata": {},
   "outputs": [
    {
     "data": {
      "text/plain": [
       "array([[-0.03713789,  0.04408956,  0.0595936 , ...,  0.03668824,\n",
       "        -0.00442444, -0.02635326],\n",
       "       [ 0.16947742, -0.01472055, -0.39452276, ..., -0.20199938,\n",
       "         0.32219604,  0.01255939],\n",
       "       [ 0.396016  , -0.2163517 , -0.34514114, ...,  0.1806434 ,\n",
       "        -0.2973108 , -0.16706   ],\n",
       "       ...,\n",
       "       [ 0.19676988, -0.05929204, -0.28069752, ...,  0.11157163,\n",
       "        -0.08208302, -0.09180789],\n",
       "       [-0.34648827, -0.32200286, -0.6952971 , ...,  0.24114665,\n",
       "         0.22921592, -0.15547477],\n",
       "       [-0.12261731, -0.06312078, -0.80349857, ...,  0.00768568,\n",
       "        -0.46103504, -0.06797558]], dtype=float32)"
      ]
     },
     "execution_count": 34,
     "metadata": {},
     "output_type": "execute_result"
    }
   ],
   "source": [
    "vecs = [norm_sent_vector (sentence, w2v) for sentence in df.NAMA]\n",
    "vecs = np.array(vecs)\n",
    "vecs"
   ]
  },
  {
   "cell_type": "markdown",
   "metadata": {},
   "source": [
    "Contoh representasi nama --> vector 128"
   ]
  },
  {
   "cell_type": "code",
   "execution_count": 35,
   "metadata": {},
   "outputs": [
    {
     "data": {
      "text/plain": [
       "('ORIZA ZEA SABRINA',\n",
       " array([-0.03713789,  0.04408956,  0.0595936 , -0.06804708, -0.090105  ,\n",
       "         0.10275188, -0.11025815,  0.00533339, -0.12279415,  0.0438692 ,\n",
       "        -0.02089555, -0.14931358,  0.02039015,  0.03154417, -0.1027438 ,\n",
       "        -0.02859107,  0.0438357 ,  0.04288588, -0.1360405 ,  0.04247766,\n",
       "        -0.1518076 , -0.09742796, -0.02984287,  0.1453505 , -0.0179162 ,\n",
       "         0.11539805, -0.01178677,  0.09705323, -0.05600392,  0.13385952,\n",
       "        -0.08327112, -0.01160394,  0.04201695,  0.00274372,  0.01283245,\n",
       "         0.05339225,  0.08125683,  0.02266148, -0.13009316,  0.06945883,\n",
       "         0.17135243, -0.02856371, -0.00195224,  0.01088363, -0.10207435,\n",
       "         0.05112273,  0.11240771,  0.10208172, -0.06732512, -0.00262202,\n",
       "         0.18021657,  0.17525594,  0.02550816,  0.07681409,  0.03018261,\n",
       "         0.00996539,  0.01732793,  0.01899868, -0.00569085, -0.06817273,\n",
       "        -0.03428501, -0.00229794, -0.11541342,  0.03843896, -0.01930622,\n",
       "         0.02012593, -0.07177105, -0.09214159,  0.01566201, -0.01477061,\n",
       "         0.13704656,  0.06570499,  0.04931153,  0.04672557,  0.00206759,\n",
       "         0.01199146, -0.18386877,  0.03663095,  0.01822059,  0.10783845,\n",
       "        -0.2097321 ,  0.04565353, -0.01595174, -0.02969646,  0.08911896,\n",
       "        -0.02256249,  0.0592933 , -0.02038007, -0.13551462,  0.06822   ,\n",
       "         0.07455576, -0.11191591,  0.03529532,  0.02983004, -0.18128954,\n",
       "         0.01305394, -0.16586667,  0.12952267, -0.22148018, -0.141874  ,\n",
       "        -0.03592959, -0.0237652 ,  0.00661759,  0.05905055, -0.03919613,\n",
       "        -0.13897449, -0.01467958,  0.01262864,  0.0638442 , -0.10505671,\n",
       "        -0.1028602 , -0.05206026,  0.064486  ,  0.09691948,  0.02857247,\n",
       "         0.10310706,  0.02841692, -0.08386276,  0.02762389,  0.2364663 ,\n",
       "        -0.04644293, -0.06463031,  0.00383279,  0.06757402,  0.01879844,\n",
       "         0.03668824, -0.00442444, -0.02635326], dtype=float32))"
      ]
     },
     "execution_count": 35,
     "metadata": {},
     "output_type": "execute_result"
    }
   ],
   "source": [
    "df.NAMA[0], vecs[0]"
   ]
  },
  {
   "cell_type": "code",
   "execution_count": 37,
   "metadata": {},
   "outputs": [
    {
     "data": {
      "text/plain": [
       "((2511, 128), (628, 128), (2511,), (628,))"
      ]
     },
     "execution_count": 37,
     "metadata": {},
     "output_type": "execute_result"
    }
   ],
   "source": [
    "X = vecs\n",
    "y = df.GENDER\n",
    "\n",
    "X_train, X_test, y_train, y_test = train_test_split(X, y, test_size=0.2, stratify=y, random_state=42)\n",
    "X_train.shape, X_test.shape, y_train.shape, y_test.shape"
   ]
  },
  {
   "cell_type": "markdown",
   "metadata": {},
   "source": [
    "# Training"
   ]
  },
  {
   "cell_type": "code",
   "execution_count": 38,
   "metadata": {},
   "outputs": [],
   "source": [
    "from sklearn.svm import SVC\n",
    "from sklearn.model_selection import RandomizedSearchCV\n",
    "from jcopml.tuning import random_search_params as rsp"
   ]
  },
  {
   "cell_type": "code",
   "execution_count": 39,
   "metadata": {},
   "outputs": [
    {
     "name": "stdout",
     "output_type": "stream",
     "text": [
      "Fitting 4 folds for each of 50 candidates, totalling 200 fits\n"
     ]
    },
    {
     "name": "stderr",
     "output_type": "stream",
     "text": [
      "[Parallel(n_jobs=-1)]: Using backend LokyBackend with 8 concurrent workers.\n",
      "[Parallel(n_jobs=-1)]: Done  34 tasks      | elapsed:   10.3s\n",
      "[Parallel(n_jobs=-1)]: Done 184 tasks      | elapsed:   29.3s\n",
      "[Parallel(n_jobs=-1)]: Done 200 out of 200 | elapsed:   30.9s finished\n",
      "C:\\Users\\dharm\\anaconda3\\lib\\site-packages\\sklearn\\svm\\_base.py:246: ConvergenceWarning: Solver terminated early (max_iter=500).  Consider pre-processing your data with StandardScaler or MinMaxScaler.\n",
      "  warnings.warn('Solver terminated early (max_iter=%i).'\n"
     ]
    },
    {
     "name": "stdout",
     "output_type": "stream",
     "text": [
      "{'algo__C': 1.368979599359222, 'algo__gamma': 0.36749049453053273}\n",
      "0.9267224213460773 0.8721663923851319 0.9124203821656051\n"
     ]
    }
   ],
   "source": [
    "pipeline = Pipeline([\n",
    "    ('algo', SVC(max_iter=500))\n",
    "])\n",
    "\n",
    "\n",
    "model = RandomizedSearchCV(pipeline, rsp.svm_params, cv=4, n_iter=50, n_jobs=-1, verbose=1, random_state=42)\n",
    "model.fit(X_train, y_train)\n",
    "\n",
    "print(model.best_params_)\n",
    "print(model.score(X_train, y_train), model.best_score_, model.score(X_test, y_test))"
   ]
  },
  {
   "cell_type": "markdown",
   "metadata": {},
   "source": [
    "# Evaluation"
   ]
  },
  {
   "cell_type": "code",
   "execution_count": 43,
   "metadata": {},
   "outputs": [
    {
     "data": {
      "image/png": "[encoded data removed]",
      "text/plain": [
       "<Figure size 792x360 with 2 Axes>"
      ]
     },
     "metadata": {
      "needs_background": "light"
     },
     "output_type": "display_data"
    }
   ],
   "source": [
    "from jcopml.plot import plot_confusion_matrix\n",
    "plot_confusion_matrix(X_train, y_train, X_test, y_test, model)"
   ]
  },
  {
   "cell_type": "markdown",
   "metadata": {},
   "source": [
    "# Save model & use model to predict new data"
   ]
  },
  {
   "cell_type": "code",
   "execution_count": 20,
   "metadata": {},
   "outputs": [
    {
     "name": "stdout",
     "output_type": "stream",
     "text": [
      "Model is pickled as model/name_to_gender.pkl\n"
     ]
    }
   ],
   "source": [
    "save_model(model,'name_to_gender.pkl')"
   ]
  },
  {
   "cell_type": "markdown",
   "metadata": {},
   "source": [
    "# Import model"
   ]
  },
  {
   "cell_type": "code",
   "execution_count": 21,
   "metadata": {},
   "outputs": [],
   "source": [
    "model = load_model('model/name_to_gender.pkl')"
   ]
  },
  {
   "cell_type": "code",
   "execution_count": 42,
   "metadata": {},
   "outputs": [
    {
     "data": {
      "text/plain": [
       "array(['L'], dtype=object)"
      ]
     },
     "execution_count": 42,
     "metadata": {},
     "output_type": "execute_result"
    }
   ],
   "source": [
    "name = [\"Jokowi Dodo\"]\n",
    "\n",
    "vecs_name = [norm_sent_vector (sentence.lower(), w2v) for sentence in name]\n",
    "vecs_name = np.array(vecs_name)\n",
    "model.predict(vecs_name)"
   ]
  },
  {
   "cell_type": "code",
   "execution_count": null,
   "metadata": {},
   "outputs": [],
   "source": []
  }
 ],
 "metadata": {
  "kernelspec": {
   "display_name": "Python 3",
   "language": "python",
   "name": "python3"
  },
  "language_info": {
   "codemirror_mode": {
    "name": "ipython",
    "version": 3
   },
   "file_extension": ".py",
   "mimetype": "text/x-python",
   "name": "python",
   "nbconvert_exporter": "python",
   "pygments_lexer": "ipython3",
   "version": "3.8.3"
  }
 },
 "nbformat": 4,
 "nbformat_minor": 4
}
